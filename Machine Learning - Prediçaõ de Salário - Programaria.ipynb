{
 "cells": [
  {
   "cell_type": "markdown",
   "metadata": {},
   "source": [
    "# Predição de Salário de Pessoas NÃO BRANCAS usando Machine Learning e Regressão Linear \n",
    " "
   ]
  },
  {
   "cell_type": "markdown",
   "metadata": {},
   "source": [
    "## Objetivo\n",
    "\n",
    "- Utilizar machine learning supervisionado e regressão linear para realizar uma predição de salário para as pessoas não brancas na área de TI. \n"
   ]
  },
  {
   "cell_type": "code",
   "execution_count": 1,
   "metadata": {},
   "outputs": [],
   "source": [
    "import matplotlib.pyplot as plt\n",
    "import pandas as pd\n",
    "import numpy as ny\n",
    "import scipy as sp \n"
   ]
  },
  {
   "cell_type": "markdown",
   "metadata": {},
   "source": [
    "## 1. Tratamento de Dados\n",
    "\n",
    "- Filtrar apenas funcionários que trabalhar no modelo CLT\n",
    "- Filtrando dados apenas para funcionários não brancos"
   ]
  },
  {
   "cell_type": "code",
   "execution_count": 4,
   "metadata": {},
   "outputs": [],
   "source": [
    "# Importando dados\n",
    "\n",
    "data = pd.read_excel('/home/apfa/MeuProjetoGitHub/Machine-Learning-To-Predict-Salary/analise_dados_mod7.xlsx')"
   ]
  },
  {
   "cell_type": "code",
   "execution_count": 6,
   "metadata": {},
   "outputs": [
    {
     "data": {
      "text/html": [
       "<div>\n",
       "<style scoped>\n",
       "    .dataframe tbody tr th:only-of-type {\n",
       "        vertical-align: middle;\n",
       "    }\n",
       "\n",
       "    .dataframe tbody tr th {\n",
       "        vertical-align: top;\n",
       "    }\n",
       "\n",
       "    .dataframe thead th {\n",
       "        text-align: right;\n",
       "    }\n",
       "</style>\n",
       "<table border=\"1\" class=\"dataframe\">\n",
       "  <thead>\n",
       "    <tr style=\"text-align: right;\">\n",
       "      <th></th>\n",
       "      <th>ID</th>\n",
       "      <th>IDADE</th>\n",
       "      <th>FAIXA IDADE</th>\n",
       "      <th>GENERO</th>\n",
       "      <th>COR/RACA/ETNIA</th>\n",
       "      <th>PCD</th>\n",
       "      <th>EXPERIENCIA_PROFISSIONAL_PREJUDICADA</th>\n",
       "      <th>ASPECTOS_PREJUDICADOS</th>\n",
       "      <th>VIVE_NO_BRASIL</th>\n",
       "      <th>ESTADO ONDE MORA</th>\n",
       "      <th>...</th>\n",
       "      <th>Você pretende mudar de emprego nos próximos 6 meses?</th>\n",
       "      <th>Quais os principais critérios que você leva em consideração no momento de decidir onde trabalhar?</th>\n",
       "      <th>Atualmente qual a sua forma de trabalho?</th>\n",
       "      <th>Qual a forma de trabalho ideal para você?</th>\n",
       "      <th>Caso sua empresa decida pelo modelo 100% presencial qual será sua atitude?</th>\n",
       "      <th>Sua empresa passu por Layoff em 2022?</th>\n",
       "      <th>Atuacao</th>\n",
       "      <th>Quais das linguagens listadas abaixo você utiliza no trabalho?</th>\n",
       "      <th>EM_BUSCA</th>\n",
       "      <th>ABERTO_OPORTUNIDADES</th>\n",
       "    </tr>\n",
       "  </thead>\n",
       "  <tbody>\n",
       "    <tr>\n",
       "      <th>0</th>\n",
       "      <td>zzqzz3l9ily8nuo2m7wyzzqzz3w48o96</td>\n",
       "      <td>39.0</td>\n",
       "      <td>35-39</td>\n",
       "      <td>Masculino</td>\n",
       "      <td>Parda</td>\n",
       "      <td>Não</td>\n",
       "      <td>Não acredito que minha experiência profissiona...</td>\n",
       "      <td>NaN</td>\n",
       "      <td>True</td>\n",
       "      <td>Distrito Federal (DF)</td>\n",
       "      <td>...</td>\n",
       "      <td>Não estou buscando e não pretendo mudar de emp...</td>\n",
       "      <td>Benefícios</td>\n",
       "      <td>Modelo 100% presencial</td>\n",
       "      <td>Modelo híbrido com dias fixos de trabalho pres...</td>\n",
       "      <td>Vou aceitar e retornar ao modelo 100% presencial</td>\n",
       "      <td>Não ocorreram layoffs/demissões em massa na em...</td>\n",
       "      <td>Engenharia de Dados</td>\n",
       "      <td>SQL</td>\n",
       "      <td>0.0</td>\n",
       "      <td>0.0</td>\n",
       "    </tr>\n",
       "    <tr>\n",
       "      <th>1</th>\n",
       "      <td>zzls2oftfn9law393oezzls2ofhvfpzd</td>\n",
       "      <td>32.0</td>\n",
       "      <td>30-34</td>\n",
       "      <td>Masculino</td>\n",
       "      <td>Parda</td>\n",
       "      <td>Não</td>\n",
       "      <td>Sim, acredito que a minha a experiência profis...</td>\n",
       "      <td>Aprovação em processos seletivos/entrevistas</td>\n",
       "      <td>True</td>\n",
       "      <td>Pará (PA)</td>\n",
       "      <td>...</td>\n",
       "      <td>Estou em busca de oportunidades dentro ou fora...</td>\n",
       "      <td>Remuneração/Salário, Plano de carreira e oport...</td>\n",
       "      <td>Modelo 100% presencial</td>\n",
       "      <td>Modelo híbrido flexível (o funcionário tem lib...</td>\n",
       "      <td>Vou aceitar e retornar ao modelo 100% presencial</td>\n",
       "      <td>Não ocorreram layoffs/demissões em massa na em...</td>\n",
       "      <td>Gestor</td>\n",
       "      <td>NaN</td>\n",
       "      <td>1.0</td>\n",
       "      <td>0.0</td>\n",
       "    </tr>\n",
       "    <tr>\n",
       "      <th>2</th>\n",
       "      <td>zzdwqzfqqp1ypc7ps6m0hzzdwqz292yi</td>\n",
       "      <td>53.0</td>\n",
       "      <td>50-54</td>\n",
       "      <td>Masculino</td>\n",
       "      <td>Branca</td>\n",
       "      <td>Não</td>\n",
       "      <td>NaN</td>\n",
       "      <td>NaN</td>\n",
       "      <td>True</td>\n",
       "      <td>Distrito Federal (DF)</td>\n",
       "      <td>...</td>\n",
       "      <td>Não estou buscando, mas me considero aberto a ...</td>\n",
       "      <td>Remuneração/Salário, Flexibilidade de trabalho...</td>\n",
       "      <td>Modelo híbrido com dias fixos de trabalho pres...</td>\n",
       "      <td>Modelo híbrido flexível (o funcionário tem lib...</td>\n",
       "      <td>Vou procurar outra oportunidade no modelo híbr...</td>\n",
       "      <td>Não ocorreram layoffs/demissões em massa na em...</td>\n",
       "      <td>desenvolve modelos preditivos e algoritmos de ...</td>\n",
       "      <td>1</td>\n",
       "      <td>0.0</td>\n",
       "      <td>1.0</td>\n",
       "    </tr>\n",
       "    <tr>\n",
       "      <th>3</th>\n",
       "      <td>zzbqh3uy7yk7k9qmkzzbqtb4s9faqspl</td>\n",
       "      <td>27.0</td>\n",
       "      <td>25-29</td>\n",
       "      <td>Masculino</td>\n",
       "      <td>Branca</td>\n",
       "      <td>Não</td>\n",
       "      <td>NaN</td>\n",
       "      <td>NaN</td>\n",
       "      <td>True</td>\n",
       "      <td>Minas Gerais (MG)</td>\n",
       "      <td>...</td>\n",
       "      <td>Não estou buscando, mas me considero aberto a ...</td>\n",
       "      <td>Remuneração/Salário, Flexibilidade de trabalho...</td>\n",
       "      <td>Modelo híbrido flexível (o funcionário tem lib...</td>\n",
       "      <td>Modelo híbrido flexível (o funcionário tem lib...</td>\n",
       "      <td>Vou procurar outra oportunidade no modelo híbr...</td>\n",
       "      <td>Não ocorreram layoffs/demissões em massa na em...</td>\n",
       "      <td>desenvolve modelos preditivos e algoritmos de ...</td>\n",
       "      <td>0</td>\n",
       "      <td>0.0</td>\n",
       "      <td>1.0</td>\n",
       "    </tr>\n",
       "    <tr>\n",
       "      <th>4</th>\n",
       "      <td>zzaf1m95yan929rb94wzzaf1mekhvhpg</td>\n",
       "      <td>46.0</td>\n",
       "      <td>45-49</td>\n",
       "      <td>Feminino</td>\n",
       "      <td>Branca</td>\n",
       "      <td>Não</td>\n",
       "      <td>Não acredito que minha experiência profissiona...</td>\n",
       "      <td>NaN</td>\n",
       "      <td>True</td>\n",
       "      <td>Pará (PA)</td>\n",
       "      <td>...</td>\n",
       "      <td>Não estou buscando, mas me considero aberto a ...</td>\n",
       "      <td>Remuneração/Salário, Oportunidade de aprendiza...</td>\n",
       "      <td>Modelo 100% presencial</td>\n",
       "      <td>Modelo 100% presencial</td>\n",
       "      <td>Vou aceitar e retornar ao modelo 100% presencial</td>\n",
       "      <td>Não ocorreram layoffs/demissões em massa na em...</td>\n",
       "      <td>Outra atuação</td>\n",
       "      <td>SQL</td>\n",
       "      <td>0.0</td>\n",
       "      <td>1.0</td>\n",
       "    </tr>\n",
       "  </tbody>\n",
       "</table>\n",
       "<p>5 rows × 46 columns</p>\n",
       "</div>"
      ],
      "text/plain": [
       "                                 ID  IDADE FAIXA IDADE     GENERO  \\\n",
       "0  zzqzz3l9ily8nuo2m7wyzzqzz3w48o96   39.0       35-39  Masculino   \n",
       "1  zzls2oftfn9law393oezzls2ofhvfpzd   32.0       30-34  Masculino   \n",
       "2  zzdwqzfqqp1ypc7ps6m0hzzdwqz292yi   53.0       50-54  Masculino   \n",
       "3  zzbqh3uy7yk7k9qmkzzbqtb4s9faqspl   27.0       25-29  Masculino   \n",
       "4  zzaf1m95yan929rb94wzzaf1mekhvhpg   46.0       45-49   Feminino   \n",
       "\n",
       "  COR/RACA/ETNIA  PCD               EXPERIENCIA_PROFISSIONAL_PREJUDICADA  \\\n",
       "0          Parda  Não  Não acredito que minha experiência profissiona...   \n",
       "1          Parda  Não  Sim, acredito que a minha a experiência profis...   \n",
       "2         Branca  Não                                                NaN   \n",
       "3         Branca  Não                                                NaN   \n",
       "4         Branca  Não  Não acredito que minha experiência profissiona...   \n",
       "\n",
       "                          ASPECTOS_PREJUDICADOS  VIVE_NO_BRASIL  \\\n",
       "0                                           NaN            True   \n",
       "1  Aprovação em processos seletivos/entrevistas            True   \n",
       "2                                           NaN            True   \n",
       "3                                           NaN            True   \n",
       "4                                           NaN            True   \n",
       "\n",
       "        ESTADO ONDE MORA  ...  \\\n",
       "0  Distrito Federal (DF)  ...   \n",
       "1              Pará (PA)  ...   \n",
       "2  Distrito Federal (DF)  ...   \n",
       "3      Minas Gerais (MG)  ...   \n",
       "4              Pará (PA)  ...   \n",
       "\n",
       "  Você pretende mudar de emprego nos próximos 6 meses?  \\\n",
       "0  Não estou buscando e não pretendo mudar de emp...     \n",
       "1  Estou em busca de oportunidades dentro ou fora...     \n",
       "2  Não estou buscando, mas me considero aberto a ...     \n",
       "3  Não estou buscando, mas me considero aberto a ...     \n",
       "4  Não estou buscando, mas me considero aberto a ...     \n",
       "\n",
       "  Quais os principais critérios que você leva em consideração no momento de decidir onde trabalhar?  \\\n",
       "0                                         Benefícios                                                  \n",
       "1  Remuneração/Salário, Plano de carreira e oport...                                                  \n",
       "2  Remuneração/Salário, Flexibilidade de trabalho...                                                  \n",
       "3  Remuneração/Salário, Flexibilidade de trabalho...                                                  \n",
       "4  Remuneração/Salário, Oportunidade de aprendiza...                                                  \n",
       "\n",
       "            Atualmente qual a sua forma de trabalho?  \\\n",
       "0                             Modelo 100% presencial   \n",
       "1                             Modelo 100% presencial   \n",
       "2  Modelo híbrido com dias fixos de trabalho pres...   \n",
       "3  Modelo híbrido flexível (o funcionário tem lib...   \n",
       "4                             Modelo 100% presencial   \n",
       "\n",
       "           Qual a forma de trabalho ideal para você?  \\\n",
       "0  Modelo híbrido com dias fixos de trabalho pres...   \n",
       "1  Modelo híbrido flexível (o funcionário tem lib...   \n",
       "2  Modelo híbrido flexível (o funcionário tem lib...   \n",
       "3  Modelo híbrido flexível (o funcionário tem lib...   \n",
       "4                             Modelo 100% presencial   \n",
       "\n",
       "  Caso sua empresa decida pelo modelo 100% presencial qual será sua atitude?  \\\n",
       "0   Vou aceitar e retornar ao modelo 100% presencial                           \n",
       "1   Vou aceitar e retornar ao modelo 100% presencial                           \n",
       "2  Vou procurar outra oportunidade no modelo híbr...                           \n",
       "3  Vou procurar outra oportunidade no modelo híbr...                           \n",
       "4   Vou aceitar e retornar ao modelo 100% presencial                           \n",
       "\n",
       "               Sua empresa passu por Layoff em 2022?  \\\n",
       "0  Não ocorreram layoffs/demissões em massa na em...   \n",
       "1  Não ocorreram layoffs/demissões em massa na em...   \n",
       "2  Não ocorreram layoffs/demissões em massa na em...   \n",
       "3  Não ocorreram layoffs/demissões em massa na em...   \n",
       "4  Não ocorreram layoffs/demissões em massa na em...   \n",
       "\n",
       "                                             Atuacao  \\\n",
       "0                                Engenharia de Dados   \n",
       "1                                             Gestor   \n",
       "2  desenvolve modelos preditivos e algoritmos de ...   \n",
       "3  desenvolve modelos preditivos e algoritmos de ...   \n",
       "4                                      Outra atuação   \n",
       "\n",
       "  Quais das linguagens listadas abaixo você utiliza no trabalho? EM_BUSCA  \\\n",
       "0                                                SQL                  0.0   \n",
       "1                                                NaN                  1.0   \n",
       "2                                                  1                  0.0   \n",
       "3                                                  0                  0.0   \n",
       "4                                                SQL                  0.0   \n",
       "\n",
       "   ABERTO_OPORTUNIDADES  \n",
       "0                   0.0  \n",
       "1                   0.0  \n",
       "2                   1.0  \n",
       "3                   1.0  \n",
       "4                   1.0  \n",
       "\n",
       "[5 rows x 46 columns]"
      ]
     },
     "execution_count": 6,
     "metadata": {},
     "output_type": "execute_result"
    }
   ],
   "source": [
    "data.head()"
   ]
  },
  {
   "cell_type": "markdown",
   "metadata": {},
   "source": [
    "- Filtrando dados por modalidade de trabalho: apenas CLT"
   ]
  },
  {
   "cell_type": "code",
   "execution_count": 7,
   "metadata": {},
   "outputs": [
    {
     "data": {
      "text/plain": [
       "QUAL SUA SITUAÇÃO ATUAL DE TRABALHO?\n",
       "Empregado (CLT)                                                    2762\n",
       "Empreendedor ou Empregado (CNPJ)                                    410\n",
       "Desempregado, buscando recolocação                                  350\n",
       "Estagiário                                                          188\n",
       "Servidor Público                                                    156\n",
       "Trabalho na área Acadêmica/Pesquisador                               86\n",
       "Somente Estudante (graduação)                                        82\n",
       "Vivo no Brasil e trabalho remoto para empresa de fora do Brasil      69\n",
       "Vivo fora do Brasil e trabalho para empresa de fora do Brasil        46\n",
       "Somente Estudante (pós-graduação)                                    44\n",
       "Freelancer                                                           39\n",
       "Prefiro não informar                                                 24\n",
       "Desempregado e não estou buscando recolocação                        15\n",
       "Name: count, dtype: int64"
      ]
     },
     "execution_count": 7,
     "metadata": {},
     "output_type": "execute_result"
    }
   ],
   "source": [
    "# Criando filtro para dados CLT\n",
    "\n",
    "data['QUAL SUA SITUAÇÃO ATUAL DE TRABALHO?'].value_counts()"
   ]
  },
  {
   "cell_type": "code",
   "execution_count": 8,
   "metadata": {},
   "outputs": [],
   "source": [
    "data = data[data['QUAL SUA SITUAÇÃO ATUAL DE TRABALHO?']=='Empregado (CLT)']"
   ]
  },
  {
   "cell_type": "code",
   "execution_count": 9,
   "metadata": {},
   "outputs": [
    {
     "data": {
      "text/plain": [
       "QUAL SUA SITUAÇÃO ATUAL DE TRABALHO?\n",
       "Empregado (CLT)    2762\n",
       "Name: count, dtype: int64"
      ]
     },
     "execution_count": 9,
     "metadata": {},
     "output_type": "execute_result"
    }
   ],
   "source": [
    "data['QUAL SUA SITUAÇÃO ATUAL DE TRABALHO?'].value_counts()"
   ]
  },
  {
   "cell_type": "markdown",
   "metadata": {},
   "source": [
    "- Filtrando dados sobre etnia dos funcionários: apenas não brancos"
   ]
  },
  {
   "cell_type": "code",
   "execution_count": 10,
   "metadata": {},
   "outputs": [
    {
     "data": {
      "text/plain": [
       "COR/RACA/ETNIA\n",
       "Branca                  1805\n",
       "Parda                    661\n",
       "Preta                    181\n",
       "Amarela                   85\n",
       "Prefiro não informar      16\n",
       "Outra                     10\n",
       "Indígena                   4\n",
       "Name: count, dtype: int64"
      ]
     },
     "execution_count": 10,
     "metadata": {},
     "output_type": "execute_result"
    }
   ],
   "source": [
    "data['COR/RACA/ETNIA'].value_counts()"
   ]
  },
  {
   "cell_type": "code",
   "execution_count": 11,
   "metadata": {},
   "outputs": [],
   "source": [
    "# Devido o tamanho da amostra ser muito pequeno 'prefiro não informar', 'outra' e 'indígena' são retirados \n",
    "\n",
    "lista_retirar = ['Prefiro não informar','Outra','Indígena']\n"
   ]
  },
  {
   "cell_type": "code",
   "execution_count": 12,
   "metadata": {},
   "outputs": [],
   "source": [
    "data = data[~data['COR/RACA/ETNIA'].isin(lista_retirar)]"
   ]
  },
  {
   "cell_type": "code",
   "execution_count": 13,
   "metadata": {},
   "outputs": [],
   "source": [
    "# Criando coluna em etnia para pessoas NÃO BRANCAS\n",
    "\n",
    "data['NÃO BRANCA'] = data['COR/RACA/ETNIA'].apply(lambda x: 1 if x!= 'Branca' else 0)"
   ]
  },
  {
   "cell_type": "code",
   "execution_count": 14,
   "metadata": {},
   "outputs": [
    {
     "data": {
      "text/plain": [
       "NÃO BRANCA\n",
       "0    1805\n",
       "1     927\n",
       "Name: count, dtype: int64"
      ]
     },
     "execution_count": 14,
     "metadata": {},
     "output_type": "execute_result"
    }
   ],
   "source": [
    "data['NÃO BRANCA'].value_counts()"
   ]
  },
  {
   "cell_type": "code",
   "execution_count": 15,
   "metadata": {},
   "outputs": [
    {
     "data": {
      "text/plain": [
       "QUANTO TEMPO DE EXPERIÊNCIA NA ÁREA DE DADOS VOCÊ TEM?\n",
       "de 1 a 2 anos                             743\n",
       "de 3 a 4 anos                             584\n",
       "de 4 a 6 anos                             416\n",
       "Menos de 1 ano                            353\n",
       "Mais de 10 anos                           277\n",
       "de 7 a 10 anos                            232\n",
       "Não tenho experiência na área de dados    127\n",
       "Name: count, dtype: int64"
      ]
     },
     "execution_count": 15,
     "metadata": {},
     "output_type": "execute_result"
    }
   ],
   "source": [
    "data['QUANTO TEMPO DE EXPERIÊNCIA NA ÁREA DE DADOS VOCÊ TEM?'].value_counts()"
   ]
  },
  {
   "cell_type": "code",
   "execution_count": 16,
   "metadata": {},
   "outputs": [],
   "source": [
    "# Criando uma coluna retirando o primeiro valor de cada resposta da linha anterior\n",
    "\n",
    "\n",
    "data['TEMPO DE EXPERINÊNCIA'] = data['QUANTO TEMPO DE EXPERIÊNCIA NA ÁREA DE DADOS VOCÊ TEM?'].str.extract(r'(\\d+)')"
   ]
  },
  {
   "cell_type": "code",
   "execution_count": 17,
   "metadata": {},
   "outputs": [
    {
     "data": {
      "text/plain": [
       "TEMPO DE EXPERINÊNCIA\n",
       "1     1096\n",
       "3      584\n",
       "4      416\n",
       "10     277\n",
       "7      232\n",
       "Name: count, dtype: int64"
      ]
     },
     "execution_count": 17,
     "metadata": {},
     "output_type": "execute_result"
    }
   ],
   "source": [
    "data['TEMPO DE EXPERINÊNCIA'].value_counts()"
   ]
  },
  {
   "cell_type": "code",
   "execution_count": 18,
   "metadata": {},
   "outputs": [
    {
     "data": {
      "text/plain": [
       "NUMERO DE FUNCIONARIOS\n",
       "Acima de 3.000      1313\n",
       "de 101 a 500         503\n",
       "de 1.001 a 3.000     368\n",
       "de 501 a 1.000       248\n",
       "de 51 a 100          146\n",
       "de 11 a 50           112\n",
       "de 6 a 10             24\n",
       "de 1 a 5              18\n",
       "Name: count, dtype: int64"
      ]
     },
     "execution_count": 18,
     "metadata": {},
     "output_type": "execute_result"
    }
   ],
   "source": [
    "data['NUMERO DE FUNCIONARIOS'].value_counts()"
   ]
  },
  {
   "cell_type": "code",
   "execution_count": 1,
   "metadata": {},
   "outputs": [
    {
     "ename": "NameError",
     "evalue": "name 'data' is not defined",
     "output_type": "error",
     "traceback": [
      "\u001b[0;31m---------------------------------------------------------------------------\u001b[0m",
      "\u001b[0;31mNameError\u001b[0m                                 Traceback (most recent call last)",
      "Cell \u001b[0;32mIn[1], line 3\u001b[0m\n\u001b[1;32m      1\u001b[0m \u001b[38;5;66;03m# Para obter apenas valores numéricos, o ponto será removido dos números \u001b[39;00m\n\u001b[0;32m----> 3\u001b[0m data[\u001b[38;5;124m'\u001b[39m\u001b[38;5;124mNUMERO DE FUNCIONARIOS\u001b[39m\u001b[38;5;124m'\u001b[39m] \u001b[38;5;241m=\u001b[39m \u001b[43mdata\u001b[49m[\u001b[38;5;124m'\u001b[39m\u001b[38;5;124mNUMERO DE FUNCIONARIOS\u001b[39m\u001b[38;5;124m'\u001b[39m]\u001b[38;5;241m.\u001b[39mstr\u001b[38;5;241m.\u001b[39mreplace(\u001b[38;5;124m'\u001b[39m\u001b[38;5;124m.\u001b[39m\u001b[38;5;124m'\u001b[39m,\u001b[38;5;124m'\u001b[39m\u001b[38;5;124m'\u001b[39m)\n",
      "\u001b[0;31mNameError\u001b[0m: name 'data' is not defined"
     ]
    }
   ],
   "source": [
    "# Para obter apenas valores numéricos, o ponto será removido dos números \n",
    "\n",
    "data['NUMERO DE FUNCIONARIOS'] = data['NUMERO DE FUNCIONARIOS'].str.replace('.','')"
   ]
  },
  {
   "cell_type": "code",
   "execution_count": 20,
   "metadata": {},
   "outputs": [
    {
     "data": {
      "text/plain": [
       "NUMERO DE FUNCIONARIOS\n",
       "Acima de 3000     1313\n",
       "de 101 a 500       503\n",
       "de 1001 a 3000     368\n",
       "de 501 a 1000      248\n",
       "de 51 a 100        146\n",
       "de 11 a 50         112\n",
       "de 6 a 10           24\n",
       "de 1 a 5            18\n",
       "Name: count, dtype: int64"
      ]
     },
     "execution_count": 20,
     "metadata": {},
     "output_type": "execute_result"
    }
   ],
   "source": [
    "data['NUMERO DE FUNCIONARIOS'].value_counts()"
   ]
  },
  {
   "cell_type": "code",
   "execution_count": 21,
   "metadata": {},
   "outputs": [],
   "source": [
    "# Criando coluna para o número de funcionários \n",
    "\n",
    "data['NUMERO DE FUNCIONARIOS'] = data['NUMERO DE FUNCIONARIOS'].str.extract(r'(\\d+)')"
   ]
  },
  {
   "cell_type": "code",
   "execution_count": 22,
   "metadata": {},
   "outputs": [
    {
     "data": {
      "text/plain": [
       "NUMERO DE FUNCIONARIOS\n",
       "3000    1313\n",
       "101      503\n",
       "1001     368\n",
       "501      248\n",
       "51       146\n",
       "11       112\n",
       "6         24\n",
       "1         18\n",
       "Name: count, dtype: int64"
      ]
     },
     "execution_count": 22,
     "metadata": {},
     "output_type": "execute_result"
    }
   ],
   "source": [
    "data['NUMERO DE FUNCIONARIOS'].value_counts()"
   ]
  },
  {
   "cell_type": "markdown",
   "metadata": {},
   "source": [
    "- Filtrando dados nulos"
   ]
  },
  {
   "cell_type": "code",
   "execution_count": 23,
   "metadata": {},
   "outputs": [
    {
     "data": {
      "text/plain": [
       "NUMERO DE FUNCIONARIOS\n",
       "3000    1313\n",
       "101      503\n",
       "1001     368\n",
       "501      248\n",
       "51       146\n",
       "11       112\n",
       "6         24\n",
       "1         18\n",
       "Name: count, dtype: int64"
      ]
     },
     "execution_count": 23,
     "metadata": {},
     "output_type": "execute_result"
    }
   ],
   "source": [
    "# Checando se há nulos \n",
    "\n",
    "data['NUMERO DE FUNCIONARIOS'].value_counts(dropna=False)"
   ]
  },
  {
   "cell_type": "code",
   "execution_count": 24,
   "metadata": {},
   "outputs": [
    {
     "data": {
      "text/plain": [
       "TEMPO DE EXPERINÊNCIA\n",
       "1      1096\n",
       "3       584\n",
       "4       416\n",
       "10      277\n",
       "7       232\n",
       "NaN     127\n",
       "Name: count, dtype: int64"
      ]
     },
     "execution_count": 24,
     "metadata": {},
     "output_type": "execute_result"
    }
   ],
   "source": [
    "data['TEMPO DE EXPERINÊNCIA'].value_counts(dropna=False)"
   ]
  },
  {
   "cell_type": "code",
   "execution_count": 25,
   "metadata": {},
   "outputs": [],
   "source": [
    "# Substituindo os nulos por zero \n",
    "\n",
    "data['TEMPO DE EXPERINÊNCIA'] = data['TEMPO DE EXPERINÊNCIA'].fillna(0)"
   ]
  },
  {
   "cell_type": "code",
   "execution_count": 26,
   "metadata": {},
   "outputs": [
    {
     "data": {
      "text/plain": [
       "Qual o principal motivo da sua insatisfação com a empresa atual?\n",
       "Gostaria de trabalhar em em outra área de atuação                                                                                                           69\n",
       "Salário atual não corresponde ao mercado                                                                                                                    53\n",
       "Falta de oportunidade de crescimento no emprego atual                                                                                                       46\n",
       "Falta de maturidade analítica na empresa                                                                                                                    45\n",
       "Falta de oportunidade de crescimento no emprego atual, Salário atual não corresponde ao mercado, Falta de maturidade analítica na empresa                   26\n",
       "                                                                                                                                                            ..\n",
       "O clima de trabalho/ambiente não é bom, Não tenho uma boa relação com meu líder/gestor, Gostaria de receber mais benefícios                                  1\n",
       "Falta de organização nos processos internos                                                                                                                  1\n",
       "Gostaria de receber mais benefícios, O clima de trabalho/ambiente não é bom, Falta de oportunidade de crescimento no emprego atual                           1\n",
       "Gostaria de receber mais benefícios, Falta de oportunidade de crescimento no emprego atual, O clima de trabalho/ambiente não é bom                           1\n",
       "Não tenho uma boa relação com meu líder/gestor, Falta de oportunidade de crescimento no emprego atual, Gostaria de trabalhar em em outra área de atuação     1\n",
       "Name: count, Length: 174, dtype: int64"
      ]
     },
     "execution_count": 26,
     "metadata": {},
     "output_type": "execute_result"
    }
   ],
   "source": [
    "# Identificando a insatisfação dos funcionários \n",
    "data['Qual o principal motivo da sua insatisfação com a empresa atual?'].value_counts()"
   ]
  },
  {
   "cell_type": "code",
   "execution_count": 27,
   "metadata": {},
   "outputs": [],
   "source": [
    "data['INSATISFACAO SALARIAL'] = 0"
   ]
  },
  {
   "cell_type": "code",
   "execution_count": 28,
   "metadata": {},
   "outputs": [],
   "source": [
    "data.loc[data['Qual o principal motivo da sua insatisfação com a empresa atual?'].notnull(), 'INSATISFACAO SALARIAL'] = data.loc[data['Qual o principal motivo da sua insatisfação com a empresa atual?'].notnull(),'Qual o principal motivo da sua insatisfação com a empresa atual?'].apply(lambda x: 1 if 'Salário' in x else 0)"
   ]
  },
  {
   "cell_type": "code",
   "execution_count": 29,
   "metadata": {},
   "outputs": [
    {
     "data": {
      "text/plain": [
       "INSATISFACAO SALARIAL\n",
       "0    2453\n",
       "1     279\n",
       "Name: count, dtype: int64"
      ]
     },
     "execution_count": 29,
     "metadata": {},
     "output_type": "execute_result"
    }
   ],
   "source": [
    "data['INSATISFACAO SALARIAL'].value_counts()"
   ]
  },
  {
   "cell_type": "code",
   "execution_count": 30,
   "metadata": {},
   "outputs": [
    {
     "data": {
      "text/plain": [
       "NIVEL DE ENSINO\n",
       "Graduação/Bacharelado         1024\n",
       "Pós-graduação                  975\n",
       "Mestrado                       306\n",
       "Estudante de Graduação         271\n",
       "Doutorado ou Phd               100\n",
       "Não tenho graduação formal      52\n",
       "Prefiro não informar             4\n",
       "Name: count, dtype: int64"
      ]
     },
     "execution_count": 30,
     "metadata": {},
     "output_type": "execute_result"
    }
   ],
   "source": [
    "# Analisano dados de nível de ensino\n",
    "\n",
    "data['NIVEL DE ENSINO'].value_counts()"
   ]
  },
  {
   "cell_type": "code",
   "execution_count": 31,
   "metadata": {},
   "outputs": [],
   "source": [
    "data['NIVEL DE ENSINO'] = data['NIVEL DE ENSINO'].apply(lambda x: 0 if x=='Não tenho graduação formal' else 1 if x=='Estudante de Graduação' else 2 if x=='Graduação/Bacharelado' else 3 if x=='Pós-graduação' else 4 if x=='Mestrado' else 5 if x=='Doutorado ou Phd ' else -1)"
   ]
  },
  {
   "cell_type": "code",
   "execution_count": 32,
   "metadata": {},
   "outputs": [
    {
     "data": {
      "text/plain": [
       "NIVEL DE ENSINO\n",
       " 2    1024\n",
       " 3     975\n",
       " 4     306\n",
       " 1     271\n",
       "-1     104\n",
       " 0      52\n",
       "Name: count, dtype: int64"
      ]
     },
     "execution_count": 32,
     "metadata": {},
     "output_type": "execute_result"
    }
   ],
   "source": [
    "data['NIVEL DE ENSINO'].value_counts()"
   ]
  },
  {
   "cell_type": "markdown",
   "metadata": {},
   "source": [
    "## 2. Treinando o modelo "
   ]
  },
  {
   "cell_type": "markdown",
   "metadata": {},
   "source": [
    "### 2.1. Separando os atributos para treinar e testar o modelo "
   ]
  },
  {
   "cell_type": "code",
   "execution_count": 33,
   "metadata": {},
   "outputs": [],
   "source": [
    "# Selecionando atributos do modelo que será treinado \n",
    "\n",
    "data = data[['IDADE','GENERO','NÃO BRANCA','TEMPO DE EXPERINÊNCIA', 'INSATISFACAO SALARIAL','SETOR', 'REGIAO ONDE MORA','NIVEL DE ENSINO', 'NUMERO DE FUNCIONARIOS', 'SALARIO','NOVO_NIVEL']]"
   ]
  },
  {
   "cell_type": "code",
   "execution_count": 34,
   "metadata": {},
   "outputs": [],
   "source": [
    "data = pd.get_dummies(data,columns=['GENERO','SETOR','NOVO_NIVEL','REGIAO ONDE MORA'],drop_first=True)"
   ]
  },
  {
   "cell_type": "code",
   "execution_count": 35,
   "metadata": {},
   "outputs": [],
   "source": [
    "# Separando os atributos em dois grupos: treinamento e teste \n",
    "\n",
    "x = data.drop('SALARIO', axis=1)  # ATRIBUTOS\n",
    "y = data['SALARIO'] #TARGET"
   ]
  },
  {
   "cell_type": "code",
   "execution_count": 37,
   "metadata": {},
   "outputs": [],
   "source": [
    "from sklearn.model_selection import train_test_split"
   ]
  },
  {
   "cell_type": "code",
   "execution_count": 38,
   "metadata": {},
   "outputs": [],
   "source": [
    "x_train, x_test, y_train, y_test = train_test_split(x, y, test_size=0.2, random_state=42)"
   ]
  },
  {
   "cell_type": "code",
   "execution_count": 39,
   "metadata": {},
   "outputs": [],
   "source": [
    "# Normalizando dados com StanderdScaler\n",
    "\n",
    "# StandarScaler é usada para padronizar os dados, ou seja, ele transforma as variáveis de entrada de forma que cada uma tenha média zero e desvio padrão igual a um.\n",
    "# Isso é útil porque muitos algoritmos de machine learning são sensíveis à escala dos dados\n",
    "\n",
    "from sklearn.preprocessing import StandardScaler\n"
   ]
  },
  {
   "cell_type": "code",
   "execution_count": 40,
   "metadata": {},
   "outputs": [],
   "source": [
    "scaler = StandardScaler() \n",
    "# fit: Calcula a média e o desvio padrão de cada variável (ou feature) no conjunto de dados de treino x_train.\n",
    "# transform: Usa esses valores para transformar (ou padronizar) os dados de treino, ou seja, subtrai a média e divide pelo desvio padrão para cada valor.\n",
    "\n",
    "x_train_scaled = scaler.fit_transform(x_train)\n",
    "x_test_scaled = scaler.fit_transform(x_test)"
   ]
  },
  {
   "cell_type": "markdown",
   "metadata": {},
   "source": [
    "### 2.2. Treinando o modelo "
   ]
  },
  {
   "cell_type": "markdown",
   "metadata": {},
   "source": [
    "Os dados serão treinados usando um modelo de Regressão Linear. "
   ]
  },
  {
   "cell_type": "code",
   "execution_count": 41,
   "metadata": {},
   "outputs": [],
   "source": [
    "from sklearn.linear_model import LinearRegression"
   ]
  },
  {
   "cell_type": "code",
   "execution_count": 42,
   "metadata": {},
   "outputs": [],
   "source": [
    "# criando o modelo\n",
    "model = LinearRegression()"
   ]
  },
  {
   "cell_type": "code",
   "execution_count": 43,
   "metadata": {},
   "outputs": [
    {
     "data": {
      "text/html": [
       "<style>#sk-container-id-1 {\n",
       "  /* Definition of color scheme common for light and dark mode */\n",
       "  --sklearn-color-text: black;\n",
       "  --sklearn-color-line: gray;\n",
       "  /* Definition of color scheme for unfitted estimators */\n",
       "  --sklearn-color-unfitted-level-0: #fff5e6;\n",
       "  --sklearn-color-unfitted-level-1: #f6e4d2;\n",
       "  --sklearn-color-unfitted-level-2: #ffe0b3;\n",
       "  --sklearn-color-unfitted-level-3: chocolate;\n",
       "  /* Definition of color scheme for fitted estimators */\n",
       "  --sklearn-color-fitted-level-0: #f0f8ff;\n",
       "  --sklearn-color-fitted-level-1: #d4ebff;\n",
       "  --sklearn-color-fitted-level-2: #b3dbfd;\n",
       "  --sklearn-color-fitted-level-3: cornflowerblue;\n",
       "\n",
       "  /* Specific color for light theme */\n",
       "  --sklearn-color-text-on-default-background: var(--sg-text-color, var(--theme-code-foreground, var(--jp-content-font-color1, black)));\n",
       "  --sklearn-color-background: var(--sg-background-color, var(--theme-background, var(--jp-layout-color0, white)));\n",
       "  --sklearn-color-border-box: var(--sg-text-color, var(--theme-code-foreground, var(--jp-content-font-color1, black)));\n",
       "  --sklearn-color-icon: #696969;\n",
       "\n",
       "  @media (prefers-color-scheme: dark) {\n",
       "    /* Redefinition of color scheme for dark theme */\n",
       "    --sklearn-color-text-on-default-background: var(--sg-text-color, var(--theme-code-foreground, var(--jp-content-font-color1, white)));\n",
       "    --sklearn-color-background: var(--sg-background-color, var(--theme-background, var(--jp-layout-color0, #111)));\n",
       "    --sklearn-color-border-box: var(--sg-text-color, var(--theme-code-foreground, var(--jp-content-font-color1, white)));\n",
       "    --sklearn-color-icon: #878787;\n",
       "  }\n",
       "}\n",
       "\n",
       "#sk-container-id-1 {\n",
       "  color: var(--sklearn-color-text);\n",
       "}\n",
       "\n",
       "#sk-container-id-1 pre {\n",
       "  padding: 0;\n",
       "}\n",
       "\n",
       "#sk-container-id-1 input.sk-hidden--visually {\n",
       "  border: 0;\n",
       "  clip: rect(1px 1px 1px 1px);\n",
       "  clip: rect(1px, 1px, 1px, 1px);\n",
       "  height: 1px;\n",
       "  margin: -1px;\n",
       "  overflow: hidden;\n",
       "  padding: 0;\n",
       "  position: absolute;\n",
       "  width: 1px;\n",
       "}\n",
       "\n",
       "#sk-container-id-1 div.sk-dashed-wrapped {\n",
       "  border: 1px dashed var(--sklearn-color-line);\n",
       "  margin: 0 0.4em 0.5em 0.4em;\n",
       "  box-sizing: border-box;\n",
       "  padding-bottom: 0.4em;\n",
       "  background-color: var(--sklearn-color-background);\n",
       "}\n",
       "\n",
       "#sk-container-id-1 div.sk-container {\n",
       "  /* jupyter's `normalize.less` sets `[hidden] { display: none; }`\n",
       "     but bootstrap.min.css set `[hidden] { display: none !important; }`\n",
       "     so we also need the `!important` here to be able to override the\n",
       "     default hidden behavior on the sphinx rendered scikit-learn.org.\n",
       "     See: https://github.com/scikit-learn/scikit-learn/issues/21755 */\n",
       "  display: inline-block !important;\n",
       "  position: relative;\n",
       "}\n",
       "\n",
       "#sk-container-id-1 div.sk-text-repr-fallback {\n",
       "  display: none;\n",
       "}\n",
       "\n",
       "div.sk-parallel-item,\n",
       "div.sk-serial,\n",
       "div.sk-item {\n",
       "  /* draw centered vertical line to link estimators */\n",
       "  background-image: linear-gradient(var(--sklearn-color-text-on-default-background), var(--sklearn-color-text-on-default-background));\n",
       "  background-size: 2px 100%;\n",
       "  background-repeat: no-repeat;\n",
       "  background-position: center center;\n",
       "}\n",
       "\n",
       "/* Parallel-specific style estimator block */\n",
       "\n",
       "#sk-container-id-1 div.sk-parallel-item::after {\n",
       "  content: \"\";\n",
       "  width: 100%;\n",
       "  border-bottom: 2px solid var(--sklearn-color-text-on-default-background);\n",
       "  flex-grow: 1;\n",
       "}\n",
       "\n",
       "#sk-container-id-1 div.sk-parallel {\n",
       "  display: flex;\n",
       "  align-items: stretch;\n",
       "  justify-content: center;\n",
       "  background-color: var(--sklearn-color-background);\n",
       "  position: relative;\n",
       "}\n",
       "\n",
       "#sk-container-id-1 div.sk-parallel-item {\n",
       "  display: flex;\n",
       "  flex-direction: column;\n",
       "}\n",
       "\n",
       "#sk-container-id-1 div.sk-parallel-item:first-child::after {\n",
       "  align-self: flex-end;\n",
       "  width: 50%;\n",
       "}\n",
       "\n",
       "#sk-container-id-1 div.sk-parallel-item:last-child::after {\n",
       "  align-self: flex-start;\n",
       "  width: 50%;\n",
       "}\n",
       "\n",
       "#sk-container-id-1 div.sk-parallel-item:only-child::after {\n",
       "  width: 0;\n",
       "}\n",
       "\n",
       "/* Serial-specific style estimator block */\n",
       "\n",
       "#sk-container-id-1 div.sk-serial {\n",
       "  display: flex;\n",
       "  flex-direction: column;\n",
       "  align-items: center;\n",
       "  background-color: var(--sklearn-color-background);\n",
       "  padding-right: 1em;\n",
       "  padding-left: 1em;\n",
       "}\n",
       "\n",
       "\n",
       "/* Toggleable style: style used for estimator/Pipeline/ColumnTransformer box that is\n",
       "clickable and can be expanded/collapsed.\n",
       "- Pipeline and ColumnTransformer use this feature and define the default style\n",
       "- Estimators will overwrite some part of the style using the `sk-estimator` class\n",
       "*/\n",
       "\n",
       "/* Pipeline and ColumnTransformer style (default) */\n",
       "\n",
       "#sk-container-id-1 div.sk-toggleable {\n",
       "  /* Default theme specific background. It is overwritten whether we have a\n",
       "  specific estimator or a Pipeline/ColumnTransformer */\n",
       "  background-color: var(--sklearn-color-background);\n",
       "}\n",
       "\n",
       "/* Toggleable label */\n",
       "#sk-container-id-1 label.sk-toggleable__label {\n",
       "  cursor: pointer;\n",
       "  display: block;\n",
       "  width: 100%;\n",
       "  margin-bottom: 0;\n",
       "  padding: 0.5em;\n",
       "  box-sizing: border-box;\n",
       "  text-align: center;\n",
       "}\n",
       "\n",
       "#sk-container-id-1 label.sk-toggleable__label-arrow:before {\n",
       "  /* Arrow on the left of the label */\n",
       "  content: \"▸\";\n",
       "  float: left;\n",
       "  margin-right: 0.25em;\n",
       "  color: var(--sklearn-color-icon);\n",
       "}\n",
       "\n",
       "#sk-container-id-1 label.sk-toggleable__label-arrow:hover:before {\n",
       "  color: var(--sklearn-color-text);\n",
       "}\n",
       "\n",
       "/* Toggleable content - dropdown */\n",
       "\n",
       "#sk-container-id-1 div.sk-toggleable__content {\n",
       "  max-height: 0;\n",
       "  max-width: 0;\n",
       "  overflow: hidden;\n",
       "  text-align: left;\n",
       "  /* unfitted */\n",
       "  background-color: var(--sklearn-color-unfitted-level-0);\n",
       "}\n",
       "\n",
       "#sk-container-id-1 div.sk-toggleable__content.fitted {\n",
       "  /* fitted */\n",
       "  background-color: var(--sklearn-color-fitted-level-0);\n",
       "}\n",
       "\n",
       "#sk-container-id-1 div.sk-toggleable__content pre {\n",
       "  margin: 0.2em;\n",
       "  border-radius: 0.25em;\n",
       "  color: var(--sklearn-color-text);\n",
       "  /* unfitted */\n",
       "  background-color: var(--sklearn-color-unfitted-level-0);\n",
       "}\n",
       "\n",
       "#sk-container-id-1 div.sk-toggleable__content.fitted pre {\n",
       "  /* unfitted */\n",
       "  background-color: var(--sklearn-color-fitted-level-0);\n",
       "}\n",
       "\n",
       "#sk-container-id-1 input.sk-toggleable__control:checked~div.sk-toggleable__content {\n",
       "  /* Expand drop-down */\n",
       "  max-height: 200px;\n",
       "  max-width: 100%;\n",
       "  overflow: auto;\n",
       "}\n",
       "\n",
       "#sk-container-id-1 input.sk-toggleable__control:checked~label.sk-toggleable__label-arrow:before {\n",
       "  content: \"▾\";\n",
       "}\n",
       "\n",
       "/* Pipeline/ColumnTransformer-specific style */\n",
       "\n",
       "#sk-container-id-1 div.sk-label input.sk-toggleable__control:checked~label.sk-toggleable__label {\n",
       "  color: var(--sklearn-color-text);\n",
       "  background-color: var(--sklearn-color-unfitted-level-2);\n",
       "}\n",
       "\n",
       "#sk-container-id-1 div.sk-label.fitted input.sk-toggleable__control:checked~label.sk-toggleable__label {\n",
       "  background-color: var(--sklearn-color-fitted-level-2);\n",
       "}\n",
       "\n",
       "/* Estimator-specific style */\n",
       "\n",
       "/* Colorize estimator box */\n",
       "#sk-container-id-1 div.sk-estimator input.sk-toggleable__control:checked~label.sk-toggleable__label {\n",
       "  /* unfitted */\n",
       "  background-color: var(--sklearn-color-unfitted-level-2);\n",
       "}\n",
       "\n",
       "#sk-container-id-1 div.sk-estimator.fitted input.sk-toggleable__control:checked~label.sk-toggleable__label {\n",
       "  /* fitted */\n",
       "  background-color: var(--sklearn-color-fitted-level-2);\n",
       "}\n",
       "\n",
       "#sk-container-id-1 div.sk-label label.sk-toggleable__label,\n",
       "#sk-container-id-1 div.sk-label label {\n",
       "  /* The background is the default theme color */\n",
       "  color: var(--sklearn-color-text-on-default-background);\n",
       "}\n",
       "\n",
       "/* On hover, darken the color of the background */\n",
       "#sk-container-id-1 div.sk-label:hover label.sk-toggleable__label {\n",
       "  color: var(--sklearn-color-text);\n",
       "  background-color: var(--sklearn-color-unfitted-level-2);\n",
       "}\n",
       "\n",
       "/* Label box, darken color on hover, fitted */\n",
       "#sk-container-id-1 div.sk-label.fitted:hover label.sk-toggleable__label.fitted {\n",
       "  color: var(--sklearn-color-text);\n",
       "  background-color: var(--sklearn-color-fitted-level-2);\n",
       "}\n",
       "\n",
       "/* Estimator label */\n",
       "\n",
       "#sk-container-id-1 div.sk-label label {\n",
       "  font-family: monospace;\n",
       "  font-weight: bold;\n",
       "  display: inline-block;\n",
       "  line-height: 1.2em;\n",
       "}\n",
       "\n",
       "#sk-container-id-1 div.sk-label-container {\n",
       "  text-align: center;\n",
       "}\n",
       "\n",
       "/* Estimator-specific */\n",
       "#sk-container-id-1 div.sk-estimator {\n",
       "  font-family: monospace;\n",
       "  border: 1px dotted var(--sklearn-color-border-box);\n",
       "  border-radius: 0.25em;\n",
       "  box-sizing: border-box;\n",
       "  margin-bottom: 0.5em;\n",
       "  /* unfitted */\n",
       "  background-color: var(--sklearn-color-unfitted-level-0);\n",
       "}\n",
       "\n",
       "#sk-container-id-1 div.sk-estimator.fitted {\n",
       "  /* fitted */\n",
       "  background-color: var(--sklearn-color-fitted-level-0);\n",
       "}\n",
       "\n",
       "/* on hover */\n",
       "#sk-container-id-1 div.sk-estimator:hover {\n",
       "  /* unfitted */\n",
       "  background-color: var(--sklearn-color-unfitted-level-2);\n",
       "}\n",
       "\n",
       "#sk-container-id-1 div.sk-estimator.fitted:hover {\n",
       "  /* fitted */\n",
       "  background-color: var(--sklearn-color-fitted-level-2);\n",
       "}\n",
       "\n",
       "/* Specification for estimator info (e.g. \"i\" and \"?\") */\n",
       "\n",
       "/* Common style for \"i\" and \"?\" */\n",
       "\n",
       ".sk-estimator-doc-link,\n",
       "a:link.sk-estimator-doc-link,\n",
       "a:visited.sk-estimator-doc-link {\n",
       "  float: right;\n",
       "  font-size: smaller;\n",
       "  line-height: 1em;\n",
       "  font-family: monospace;\n",
       "  background-color: var(--sklearn-color-background);\n",
       "  border-radius: 1em;\n",
       "  height: 1em;\n",
       "  width: 1em;\n",
       "  text-decoration: none !important;\n",
       "  margin-left: 1ex;\n",
       "  /* unfitted */\n",
       "  border: var(--sklearn-color-unfitted-level-1) 1pt solid;\n",
       "  color: var(--sklearn-color-unfitted-level-1);\n",
       "}\n",
       "\n",
       ".sk-estimator-doc-link.fitted,\n",
       "a:link.sk-estimator-doc-link.fitted,\n",
       "a:visited.sk-estimator-doc-link.fitted {\n",
       "  /* fitted */\n",
       "  border: var(--sklearn-color-fitted-level-1) 1pt solid;\n",
       "  color: var(--sklearn-color-fitted-level-1);\n",
       "}\n",
       "\n",
       "/* On hover */\n",
       "div.sk-estimator:hover .sk-estimator-doc-link:hover,\n",
       ".sk-estimator-doc-link:hover,\n",
       "div.sk-label-container:hover .sk-estimator-doc-link:hover,\n",
       ".sk-estimator-doc-link:hover {\n",
       "  /* unfitted */\n",
       "  background-color: var(--sklearn-color-unfitted-level-3);\n",
       "  color: var(--sklearn-color-background);\n",
       "  text-decoration: none;\n",
       "}\n",
       "\n",
       "div.sk-estimator.fitted:hover .sk-estimator-doc-link.fitted:hover,\n",
       ".sk-estimator-doc-link.fitted:hover,\n",
       "div.sk-label-container:hover .sk-estimator-doc-link.fitted:hover,\n",
       ".sk-estimator-doc-link.fitted:hover {\n",
       "  /* fitted */\n",
       "  background-color: var(--sklearn-color-fitted-level-3);\n",
       "  color: var(--sklearn-color-background);\n",
       "  text-decoration: none;\n",
       "}\n",
       "\n",
       "/* Span, style for the box shown on hovering the info icon */\n",
       ".sk-estimator-doc-link span {\n",
       "  display: none;\n",
       "  z-index: 9999;\n",
       "  position: relative;\n",
       "  font-weight: normal;\n",
       "  right: .2ex;\n",
       "  padding: .5ex;\n",
       "  margin: .5ex;\n",
       "  width: min-content;\n",
       "  min-width: 20ex;\n",
       "  max-width: 50ex;\n",
       "  color: var(--sklearn-color-text);\n",
       "  box-shadow: 2pt 2pt 4pt #999;\n",
       "  /* unfitted */\n",
       "  background: var(--sklearn-color-unfitted-level-0);\n",
       "  border: .5pt solid var(--sklearn-color-unfitted-level-3);\n",
       "}\n",
       "\n",
       ".sk-estimator-doc-link.fitted span {\n",
       "  /* fitted */\n",
       "  background: var(--sklearn-color-fitted-level-0);\n",
       "  border: var(--sklearn-color-fitted-level-3);\n",
       "}\n",
       "\n",
       ".sk-estimator-doc-link:hover span {\n",
       "  display: block;\n",
       "}\n",
       "\n",
       "/* \"?\"-specific style due to the `<a>` HTML tag */\n",
       "\n",
       "#sk-container-id-1 a.estimator_doc_link {\n",
       "  float: right;\n",
       "  font-size: 1rem;\n",
       "  line-height: 1em;\n",
       "  font-family: monospace;\n",
       "  background-color: var(--sklearn-color-background);\n",
       "  border-radius: 1rem;\n",
       "  height: 1rem;\n",
       "  width: 1rem;\n",
       "  text-decoration: none;\n",
       "  /* unfitted */\n",
       "  color: var(--sklearn-color-unfitted-level-1);\n",
       "  border: var(--sklearn-color-unfitted-level-1) 1pt solid;\n",
       "}\n",
       "\n",
       "#sk-container-id-1 a.estimator_doc_link.fitted {\n",
       "  /* fitted */\n",
       "  border: var(--sklearn-color-fitted-level-1) 1pt solid;\n",
       "  color: var(--sklearn-color-fitted-level-1);\n",
       "}\n",
       "\n",
       "/* On hover */\n",
       "#sk-container-id-1 a.estimator_doc_link:hover {\n",
       "  /* unfitted */\n",
       "  background-color: var(--sklearn-color-unfitted-level-3);\n",
       "  color: var(--sklearn-color-background);\n",
       "  text-decoration: none;\n",
       "}\n",
       "\n",
       "#sk-container-id-1 a.estimator_doc_link.fitted:hover {\n",
       "  /* fitted */\n",
       "  background-color: var(--sklearn-color-fitted-level-3);\n",
       "}\n",
       "</style><div id=\"sk-container-id-1\" class=\"sk-top-container\"><div class=\"sk-text-repr-fallback\"><pre>LinearRegression()</pre><b>In a Jupyter environment, please rerun this cell to show the HTML representation or trust the notebook. <br />On GitHub, the HTML representation is unable to render, please try loading this page with nbviewer.org.</b></div><div class=\"sk-container\" hidden><div class=\"sk-item\"><div class=\"sk-estimator fitted sk-toggleable\"><input class=\"sk-toggleable__control sk-hidden--visually\" id=\"sk-estimator-id-1\" type=\"checkbox\" checked><label for=\"sk-estimator-id-1\" class=\"sk-toggleable__label fitted sk-toggleable__label-arrow fitted\">&nbsp;&nbsp;LinearRegression<a class=\"sk-estimator-doc-link fitted\" rel=\"noreferrer\" target=\"_blank\" href=\"https://scikit-learn.org/1.5/modules/generated/sklearn.linear_model.LinearRegression.html\">?<span>Documentation for LinearRegression</span></a><span class=\"sk-estimator-doc-link fitted\">i<span>Fitted</span></span></label><div class=\"sk-toggleable__content fitted\"><pre>LinearRegression()</pre></div> </div></div></div></div>"
      ],
      "text/plain": [
       "LinearRegression()"
      ]
     },
     "execution_count": 43,
     "metadata": {},
     "output_type": "execute_result"
    }
   ],
   "source": [
    "# treinando modelo \n",
    "model.fit(x_train_scaled, y_train)"
   ]
  },
  {
   "cell_type": "code",
   "execution_count": 44,
   "metadata": {},
   "outputs": [],
   "source": [
    "# Salvando os resultados  de salários previsto pelo modelo em uma variável\n",
    "y_pred = model.predict(x_test_scaled)"
   ]
  },
  {
   "cell_type": "markdown",
   "metadata": {},
   "source": [
    "Avaliação do desempenho do modelo\n"
   ]
  },
  {
   "cell_type": "code",
   "execution_count": 46,
   "metadata": {},
   "outputs": [],
   "source": [
    "from sklearn.metrics import mean_squared_error,r2_score, mean_absolute_error"
   ]
  },
  {
   "cell_type": "code",
   "execution_count": 47,
   "metadata": {},
   "outputs": [
    {
     "data": {
      "text/plain": [
       "np.float64(24239832.470045038)"
      ]
     },
     "execution_count": 47,
     "metadata": {},
     "output_type": "execute_result"
    }
   ],
   "source": [
    "# Erro quadratico médico calcula a diferença entre o valor predito e o valor real. Ao elevar esse resultado ao quadrado valores muito discrepantes são penalizados \n",
    "\n",
    "mse = mean_squared_error(y_test, y_pred)\n",
    "mse"
   ]
  },
  {
   "cell_type": "code",
   "execution_count": 2,
   "metadata": {},
   "outputs": [
    {
     "ename": "NameError",
     "evalue": "name 'mse' is not defined",
     "output_type": "error",
     "traceback": [
      "\u001b[0;31m---------------------------------------------------------------------------\u001b[0m",
      "\u001b[0;31mNameError\u001b[0m                                 Traceback (most recent call last)",
      "Cell \u001b[0;32mIn[2], line 1\u001b[0m\n\u001b[0;32m----> 1\u001b[0m \u001b[38;5;28mprint\u001b[39m(\u001b[38;5;124mf\u001b[39m\u001b[38;5;124m'\u001b[39m\u001b[38;5;124mUm valor alto como \u001b[39m\u001b[38;5;132;01m{\u001b[39;00m\u001b[43mmse\u001b[49m\u001b[38;5;132;01m:\u001b[39;00m\u001b[38;5;124m0.2f\u001b[39m\u001b[38;5;132;01m}\u001b[39;00m\u001b[38;5;124m sugere que, em média, os valores preditos estão bastante distantes dos valores reais. Indicando que o modelo ainda tem espaço para melhoria.\u001b[39m\u001b[38;5;124m'\u001b[39m)\n",
      "\u001b[0;31mNameError\u001b[0m: name 'mse' is not defined"
     ]
    }
   ],
   "source": [
    "print(f'Um valor alto como {mse:0.2f} sugere que, em média, os valores preditos estão bastante distantes dos valores reais. Indicando que o modelo ainda tem espaço para melhoria.')"
   ]
  },
  {
   "cell_type": "code",
   "execution_count": 48,
   "metadata": {},
   "outputs": [
    {
     "data": {
      "text/plain": [
       "np.float64(3385.5214004911377)"
      ]
     },
     "execution_count": 48,
     "metadata": {},
     "output_type": "execute_result"
    }
   ],
   "source": [
    "# Calculo do erro linear\n",
    "mae = mean_absolute_error(y_test, y_pred)\n",
    "mae"
   ]
  },
  {
   "cell_type": "markdown",
   "metadata": {},
   "source": [
    "Tanto o MSE quanto o MAE indicam que o modelo comete erros consideráveis nas suas previsões. Isso pode ser devido a diversos fatores, como a complexidade do problema ou a quantidade insuficiente dos dados."
   ]
  },
  {
   "cell_type": "code",
   "execution_count": 49,
   "metadata": {},
   "outputs": [
    {
     "data": {
      "text/plain": [
       "0.5054327070282764"
      ]
     },
     "execution_count": 49,
     "metadata": {},
     "output_type": "execute_result"
    }
   ],
   "source": [
    "# r² é uma medida estatística de quão próxima os dados estão da linha de regressão que inca se o modelo explica ou não a variabilidade de respostas (sempre entre 0 e 100%)\n",
    "\n",
    "r2 = r2_score(y_test, y_pred)\n",
    "r2"
   ]
  },
  {
   "cell_type": "markdown",
   "metadata": {},
   "source": [
    "### 2.3. Visualização dos dados do modelo predito e dos valores reais "
   ]
  },
  {
   "cell_type": "code",
   "execution_count": 50,
   "metadata": {},
   "outputs": [
    {
     "data": {
      "image/png": "[encoded data removed]",
      "text/plain": [
       "<Figure size 800x600 with 1 Axes>"
      ]
     },
     "metadata": {},
     "output_type": "display_data"
    }
   ],
   "source": [
    "plt.figure(figsize=(8,6))\n",
    "plt.scatter(y_test, y_pred, alpha=0.5)\n",
    "plt.xlabel('Valores de salários reais (R$)')\n",
    "plt.ylabel('Valores de salários preditos (R$)')\n",
    "plt.title('Dispersão dos valores de salários preditos')\n",
    "plt.plot([min(y_test), max(y_test)], [min(y_test), max(y_test)], color='red', linewidth=2)\n",
    "plt.grid()\n",
    "plt.show()\n"
   ]
  },
  {
   "cell_type": "markdown",
   "metadata": {},
   "source": [
    "- Até os valores de R$ 20.000 reais os valores preditos seguem a tendência dos valores reais. \n",
    "\n",
    "- Resultados obtidos indicam que o modelo de regressão linear, embora capture uma parte da variabilidade dos salários, ainda apresenta margem para melhoria."
   ]
  },
  {
   "cell_type": "markdown",
   "metadata": {},
   "source": [
    "### 2.4. Avaliando quais atributos possuem maior influência no modelo criado "
   ]
  },
  {
   "cell_type": "code",
   "execution_count": 51,
   "metadata": {},
   "outputs": [
    {
     "data": {
      "text/plain": [
       "Index(['IDADE', 'NÃO BRANCA', 'TEMPO DE EXPERINÊNCIA', 'INSATISFACAO SALARIAL',\n",
       "       'NIVEL DE ENSINO', 'NUMERO DE FUNCIONARIOS', 'GENERO_Masculino',\n",
       "       'GENERO_Prefiro não informar', 'SETOR_Educação',\n",
       "       'SETOR_Entretenimento ou Esportes', 'SETOR_Filantropia/ONG's',\n",
       "       'SETOR_Finanças ou Bancos', 'SETOR_Indústria',\n",
       "       'SETOR_Internet/Ecommerce', 'SETOR_Marketing', 'SETOR_Outra Opção',\n",
       "       'SETOR_Seguros ou Previdência', 'SETOR_Setor Alimentício',\n",
       "       'SETOR_Setor Automotivo', 'SETOR_Setor Farmaceutico',\n",
       "       'SETOR_Setor Imobiliário/ Construção Civil', 'SETOR_Setor Público',\n",
       "       'SETOR_Setor de Energia', 'SETOR_Tecnologia/Fábrica de Software',\n",
       "       'SETOR_Telecomunicação', 'SETOR_Varejo', 'SETOR_Área da Saúde',\n",
       "       'SETOR_Área de Consultoria', 'NOVO_NIVEL_Pessoa Gestora',\n",
       "       'NOVO_NIVEL_Pleno', 'NOVO_NIVEL_Sênior', 'REGIAO ONDE MORA_Nordeste',\n",
       "       'REGIAO ONDE MORA_Norte', 'REGIAO ONDE MORA_Sudeste',\n",
       "       'REGIAO ONDE MORA_Sul'],\n",
       "      dtype='object')"
      ]
     },
     "execution_count": 51,
     "metadata": {},
     "output_type": "execute_result"
    }
   ],
   "source": [
    "nomes_atributos = x_train.columns\n",
    "nomes_atributos"
   ]
  },
  {
   "cell_type": "code",
   "execution_count": 52,
   "metadata": {},
   "outputs": [],
   "source": [
    "coeficientes = pd.DataFrame(model.coef_,columns=['coeficientes'], index=nomes_atributos)"
   ]
  },
  {
   "cell_type": "code",
   "execution_count": 53,
   "metadata": {},
   "outputs": [
    {
     "data": {
      "text/html": [
       "<div>\n",
       "<style scoped>\n",
       "    .dataframe tbody tr th:only-of-type {\n",
       "        vertical-align: middle;\n",
       "    }\n",
       "\n",
       "    .dataframe tbody tr th {\n",
       "        vertical-align: top;\n",
       "    }\n",
       "\n",
       "    .dataframe thead th {\n",
       "        text-align: right;\n",
       "    }\n",
       "</style>\n",
       "<table border=\"1\" class=\"dataframe\">\n",
       "  <thead>\n",
       "    <tr style=\"text-align: right;\">\n",
       "      <th></th>\n",
       "      <th>coeficientes</th>\n",
       "    </tr>\n",
       "  </thead>\n",
       "  <tbody>\n",
       "    <tr>\n",
       "      <th>NOVO_NIVEL_Pessoa Gestora</th>\n",
       "      <td>4105.143507</td>\n",
       "    </tr>\n",
       "    <tr>\n",
       "      <th>NOVO_NIVEL_Sênior</th>\n",
       "      <td>2169.648293</td>\n",
       "    </tr>\n",
       "    <tr>\n",
       "      <th>TEMPO DE EXPERINÊNCIA</th>\n",
       "      <td>2109.687809</td>\n",
       "    </tr>\n",
       "    <tr>\n",
       "      <th>NOVO_NIVEL_Pleno</th>\n",
       "      <td>995.483351</td>\n",
       "    </tr>\n",
       "    <tr>\n",
       "      <th>NUMERO DE FUNCIONARIOS</th>\n",
       "      <td>849.975023</td>\n",
       "    </tr>\n",
       "    <tr>\n",
       "      <th>SETOR_Internet/Ecommerce</th>\n",
       "      <td>648.349156</td>\n",
       "    </tr>\n",
       "    <tr>\n",
       "      <th>SETOR_Finanças ou Bancos</th>\n",
       "      <td>640.009814</td>\n",
       "    </tr>\n",
       "    <tr>\n",
       "      <th>SETOR_Tecnologia/Fábrica de Software</th>\n",
       "      <td>515.441498</td>\n",
       "    </tr>\n",
       "    <tr>\n",
       "      <th>GENERO_Masculino</th>\n",
       "      <td>496.914208</td>\n",
       "    </tr>\n",
       "    <tr>\n",
       "      <th>NIVEL DE ENSINO</th>\n",
       "      <td>322.382463</td>\n",
       "    </tr>\n",
       "    <tr>\n",
       "      <th>SETOR_Área de Consultoria</th>\n",
       "      <td>298.491458</td>\n",
       "    </tr>\n",
       "    <tr>\n",
       "      <th>SETOR_Setor Imobiliário/ Construção Civil</th>\n",
       "      <td>272.767705</td>\n",
       "    </tr>\n",
       "    <tr>\n",
       "      <th>SETOR_Entretenimento ou Esportes</th>\n",
       "      <td>204.797892</td>\n",
       "    </tr>\n",
       "    <tr>\n",
       "      <th>GENERO_Prefiro não informar</th>\n",
       "      <td>105.827601</td>\n",
       "    </tr>\n",
       "    <tr>\n",
       "      <th>SETOR_Seguros ou Previdência</th>\n",
       "      <td>97.191922</td>\n",
       "    </tr>\n",
       "    <tr>\n",
       "      <th>SETOR_Setor de Energia</th>\n",
       "      <td>57.431444</td>\n",
       "    </tr>\n",
       "    <tr>\n",
       "      <th>SETOR_Área da Saúde</th>\n",
       "      <td>3.450872</td>\n",
       "    </tr>\n",
       "    <tr>\n",
       "      <th>SETOR_Marketing</th>\n",
       "      <td>2.775846</td>\n",
       "    </tr>\n",
       "    <tr>\n",
       "      <th>SETOR_Varejo</th>\n",
       "      <td>-0.164803</td>\n",
       "    </tr>\n",
       "    <tr>\n",
       "      <th>SETOR_Outra Opção</th>\n",
       "      <td>-30.068828</td>\n",
       "    </tr>\n",
       "    <tr>\n",
       "      <th>SETOR_Setor Alimentício</th>\n",
       "      <td>-36.419846</td>\n",
       "    </tr>\n",
       "    <tr>\n",
       "      <th>SETOR_Setor Farmaceutico</th>\n",
       "      <td>-64.707511</td>\n",
       "    </tr>\n",
       "    <tr>\n",
       "      <th>SETOR_Setor Público</th>\n",
       "      <td>-110.034345</td>\n",
       "    </tr>\n",
       "    <tr>\n",
       "      <th>IDADE</th>\n",
       "      <td>-151.773643</td>\n",
       "    </tr>\n",
       "    <tr>\n",
       "      <th>SETOR_Filantropia/ONG's</th>\n",
       "      <td>-188.342687</td>\n",
       "    </tr>\n",
       "    <tr>\n",
       "      <th>SETOR_Educação</th>\n",
       "      <td>-192.498149</td>\n",
       "    </tr>\n",
       "    <tr>\n",
       "      <th>SETOR_Telecomunicação</th>\n",
       "      <td>-221.619081</td>\n",
       "    </tr>\n",
       "    <tr>\n",
       "      <th>SETOR_Indústria</th>\n",
       "      <td>-227.974381</td>\n",
       "    </tr>\n",
       "    <tr>\n",
       "      <th>REGIAO ONDE MORA_Sudeste</th>\n",
       "      <td>-241.134202</td>\n",
       "    </tr>\n",
       "    <tr>\n",
       "      <th>REGIAO ONDE MORA_Norte</th>\n",
       "      <td>-246.278718</td>\n",
       "    </tr>\n",
       "    <tr>\n",
       "      <th>SETOR_Setor Automotivo</th>\n",
       "      <td>-305.244698</td>\n",
       "    </tr>\n",
       "    <tr>\n",
       "      <th>REGIAO ONDE MORA_Nordeste</th>\n",
       "      <td>-428.705810</td>\n",
       "    </tr>\n",
       "    <tr>\n",
       "      <th>NÃO BRANCA</th>\n",
       "      <td>-443.782641</td>\n",
       "    </tr>\n",
       "    <tr>\n",
       "      <th>INSATISFACAO SALARIAL</th>\n",
       "      <td>-553.007210</td>\n",
       "    </tr>\n",
       "    <tr>\n",
       "      <th>REGIAO ONDE MORA_Sul</th>\n",
       "      <td>-598.521596</td>\n",
       "    </tr>\n",
       "  </tbody>\n",
       "</table>\n",
       "</div>"
      ],
      "text/plain": [
       "                                           coeficientes\n",
       "NOVO_NIVEL_Pessoa Gestora                   4105.143507\n",
       "NOVO_NIVEL_Sênior                           2169.648293\n",
       "TEMPO DE EXPERINÊNCIA                       2109.687809\n",
       "NOVO_NIVEL_Pleno                             995.483351\n",
       "NUMERO DE FUNCIONARIOS                       849.975023\n",
       "SETOR_Internet/Ecommerce                     648.349156\n",
       "SETOR_Finanças ou Bancos                     640.009814\n",
       "SETOR_Tecnologia/Fábrica de Software         515.441498\n",
       "GENERO_Masculino                             496.914208\n",
       "NIVEL DE ENSINO                              322.382463\n",
       "SETOR_Área de Consultoria                    298.491458\n",
       "SETOR_Setor Imobiliário/ Construção Civil    272.767705\n",
       "SETOR_Entretenimento ou Esportes             204.797892\n",
       "GENERO_Prefiro não informar                  105.827601\n",
       "SETOR_Seguros ou Previdência                  97.191922\n",
       "SETOR_Setor de Energia                        57.431444\n",
       "SETOR_Área da Saúde                            3.450872\n",
       "SETOR_Marketing                                2.775846\n",
       "SETOR_Varejo                                  -0.164803\n",
       "SETOR_Outra Opção                            -30.068828\n",
       "SETOR_Setor Alimentício                      -36.419846\n",
       "SETOR_Setor Farmaceutico                     -64.707511\n",
       "SETOR_Setor Público                         -110.034345\n",
       "IDADE                                       -151.773643\n",
       "SETOR_Filantropia/ONG's                     -188.342687\n",
       "SETOR_Educação                              -192.498149\n",
       "SETOR_Telecomunicação                       -221.619081\n",
       "SETOR_Indústria                             -227.974381\n",
       "REGIAO ONDE MORA_Sudeste                    -241.134202\n",
       "REGIAO ONDE MORA_Norte                      -246.278718\n",
       "SETOR_Setor Automotivo                      -305.244698\n",
       "REGIAO ONDE MORA_Nordeste                   -428.705810\n",
       "NÃO BRANCA                                  -443.782641\n",
       "INSATISFACAO SALARIAL                       -553.007210\n",
       "REGIAO ONDE MORA_Sul                        -598.521596"
      ]
     },
     "execution_count": 53,
     "metadata": {},
     "output_type": "execute_result"
    }
   ],
   "source": [
    "coeficientes = coeficientes.sort_values(by='coeficientes', ascending=False)\n",
    "coeficientes"
   ]
  },
  {
   "cell_type": "code",
   "execution_count": 56,
   "metadata": {},
   "outputs": [
    {
     "data": {
      "text/plain": [
       "Text(0.5, 1.0, 'Inflência de cada atributo no salário')"
      ]
     },
     "execution_count": 56,
     "metadata": {},
     "output_type": "execute_result"
    },
    {
     "data": {
      "image/png": "[encoded data removed]",
      "text/plain": [
       "<Figure size 800x600 with 1 Axes>"
      ]
     },
     "metadata": {},
     "output_type": "display_data"
    }
   ],
   "source": [
    "# Visualizando o impacto de cada coeficiente \n",
    "coeficientes.plot.barh(figsize=(8,6))\n",
    "plt.axvline(x=0, color='red')\n",
    "plt.title('Inflência de cada atributo no salário')\n"
   ]
  },
  {
   "cell_type": "markdown",
   "metadata": {},
   "source": [
    "## 3. Conclusões"
   ]
  },
  {
   "cell_type": "markdown",
   "metadata": {},
   "source": [
    "- A análise dos resultados do modelo de predição de salários revelou que diversos fatores, como **nível de cargo, tempo de experiência, funcionário do gênero masculino**, exercem significativa influência positiva para o aumento dos salários. \n",
    "\n",
    "- **Já fatores região (nordeste e norte) e etnia (como pessoas não brancas) exercem signifiacante influência negativa, levando a salário menores.**\n",
    "\n",
    "- Esses resultados demonstram que, vieses culturais como desigualdade entre gêneros e descriminação racional, refletem diretamente no salário de profissionais da área de TI.\n",
    "\n",
    "- Consideranto que áres de tecnologia envolvem um constante aprendizado e aprimoramento do nível de ensino, espera-se que o fator **'Nível de ensino'** exerca grande influência no salário dos funcionários. Entretanto, realizando uma análise com olhar para diversidade, os dados apontam que, **mesmo o aumento do nível de ensino sendo um fator positivo para o aumento de salário de funcionários, o fator 'gênero masculino' exerce uma influência de peso similar em funcionários na área de TI**. \n",
    "\n",
    "- O modelo ainda apresenta margem para melhoria, com métricas de erro indicando que as previsões podem não ser totalmente precisas.\n",
    "\n",
    "- Para aprimorar o modelo, sugiro algumas estratégias, como: explorar interações entre variáveis, aplicar transformações não lineares, considerar modelos mais complexos. Ao implementar essas melhorias, é possível construir um modelo mais robusto e preciso para prever salários na área de TI.\n",
    "\n",
    "- Em resumo, a análise indica que o modelo de regressão linear captura algumas nuances da determinação salarial, mas que ainda há espaço para aprofundar a investigação e refinar as previsões."
   ]
  }
 ],
 "metadata": {
  "kernelspec": {
   "display_name": "Python 3",
   "language": "python",
   "name": "python3"
  },
  "language_info": {
   "codemirror_mode": {
    "name": "ipython",
    "version": 3
   },
   "file_extension": ".py",
   "mimetype": "text/x-python",
   "name": "python",
   "nbconvert_exporter": "python",
   "pygments_lexer": "ipython3",
   "version": "3.12.8"
  }
 },
 "nbformat": 4,
 "nbformat_minor": 2
}
